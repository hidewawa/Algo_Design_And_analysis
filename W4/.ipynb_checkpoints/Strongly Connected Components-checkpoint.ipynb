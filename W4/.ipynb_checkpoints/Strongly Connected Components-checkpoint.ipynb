{
 "cells": [
  {
   "cell_type": "markdown",
   "metadata": {},
   "source": [
    "The file contains the edges of a directed graph. Vertices are labeled as positive integers from 1 to 875714. Every row indicates an edge, the vertex label in first column is the tail and the vertex label in second column is the head (recall the graph is directed, and the edges are directed from the first column vertex to the second column vertex). So for example, the 11th row looks liks : \"2 47646\". This just means that the vertex with label 2 has an outgoing edge to the vertex with label 47646\n",
    "\n",
    "Your task is to code up the algorithm from the video lectures for computing strongly connected components (SCCs), and to run this algorithm on the given graph.\n",
    "\n",
    "Output Format: You should output the sizes of the 5 largest SCCs in the given graph, in decreasing order of sizes, separated by commas (avoid any spaces). So if your algorithm computes the sizes of the five largest SCCs to be 500, 400, 300, 200 and 100, then your answer should be \"500,400,300,200,100\" (without the quotes). If your algorithm finds less than 5 SCCs, then write 0 for the remaining terms. Thus, if your algorithm computes only 3 SCCs whose sizes are 400, 300, and 100, then your answer should be \"400,300,100,0,0\" (without the quotes). (Note also that your answer should not have any spaces in it.)\n",
    "\n",
    "WARNING: This is the most challenging programming assignment of the course. Because of the size of the graph you may have to manage memory carefully. The best way to do this depends on your programming language and environment, and we strongly suggest that you exchange tips for doing this on the discussion forums."
   ]
  },
  {
   "cell_type": "code",
   "execution_count": 2,
   "metadata": {
    "collapsed": false
   },
   "outputs": [],
   "source": [
    "import os\n",
    "filename = './_410e934e6553ac56409b2cb7096a44aa_SCC.txt'\n",
    "edges = [(int(line.rstrip().split(' ')[0]),int(line.rstrip().split(' ')[1])) for line in open(filename)]"
   ]
  },
  {
   "cell_type": "code",
   "execution_count": 53,
   "metadata": {
    "collapsed": true
   },
   "outputs": [],
   "source": [
    "from collections import defaultdict\n",
    "import sys\n",
    "import threading\n",
    "from itertools import groupby"
   ]
  },
  {
   "cell_type": "code",
   "execution_count": 8,
   "metadata": {
    "collapsed": false
   },
   "outputs": [
    {
     "data": {
      "text/plain": [
       "67108864"
      ]
     },
     "execution_count": 8,
     "metadata": {},
     "output_type": "execute_result"
    }
   ],
   "source": [
    "sys.setrecursionlimit(2 ** 20)\n",
    "threading.stack_size(67108864)"
   ]
  },
  {
   "cell_type": "code",
   "execution_count": 30,
   "metadata": {
    "collapsed": false
   },
   "outputs": [],
   "source": [
    "# create a graph adjacency dictionary\n",
    "def create_graph(edges):\n",
    "    d = defaultdict(list)\n",
    "    for k,v in edges:\n",
    "        d[k].append(v)\n",
    "    return d\n",
    "        \n",
    "    "
   ]
  },
  {
   "cell_type": "code",
   "execution_count": 31,
   "metadata": {
    "collapsed": false
   },
   "outputs": [],
   "source": [
    "# original graph\n",
    "o_graph = create_graph(edges)"
   ]
  },
  {
   "cell_type": "code",
   "execution_count": 39,
   "metadata": {
    "collapsed": false
   },
   "outputs": [],
   "source": [
    "# create a graph with arcs reversed\n",
    "def reverse_graph(graph):\n",
    "    d = defaultdict(list)\n",
    "    for k,v in graph.items():\n",
    "        for j in v:\n",
    "            d[j].append(k)\n",
    "    return d\n",
    "    "
   ]
  },
  {
   "cell_type": "code",
   "execution_count": 40,
   "metadata": {
    "collapsed": false
   },
   "outputs": [],
   "source": [
    "# reverse graph\n",
    "r_graph = reverse_graph(o_graph)"
   ]
  },
  {
   "cell_type": "code",
   "execution_count": 36,
   "metadata": {
    "collapsed": false
   },
   "outputs": [
    {
     "name": "stdout",
     "output_type": "stream",
     "text": [
      "875714 739454\n"
     ]
    }
   ],
   "source": [
    "print len(r_graph),len(o_graph)"
   ]
  },
  {
   "cell_type": "code",
   "execution_count": 105,
   "metadata": {
    "collapsed": false
   },
   "outputs": [],
   "source": [
    "# create five global variables\n",
    "# t is the # of nodes processed so far, for finishing times in 1st pass\n",
    "t = 0\n",
    "# s is the current source vertex, for leaders in 2nd pass\n",
    "s = None\n",
    "# leader node\n",
    "leader = {}\n",
    "# finish time\n",
    "finish = {}\n",
    "# visited nodes\n",
    "visited = set()"
   ]
  },
  {
   "cell_type": "code",
   "execution_count": 62,
   "metadata": {
    "collapsed": true
   },
   "outputs": [],
   "source": [
    "# DFS loop algorithm\n",
    "def dfs_loop(graph,nodes):\n",
    "    global s,visited\n",
    "    for i in nodes:\n",
    "        if i not in visited:\n",
    "            s = i\n",
    "            dfs(graph,i)\n",
    "    "
   ]
  },
  {
   "cell_type": "code",
   "execution_count": 63,
   "metadata": {
    "collapsed": false
   },
   "outputs": [],
   "source": [
    "# DFS function\n",
    "def dfs(graph,i):\n",
    "    visited.add(i)\n",
    "    global leader,t,s\n",
    "    leader[i] = s\n",
    "    for j in graph[i]:\n",
    "        if j not in visited:\n",
    "            dfs(graph,j)\n",
    "    t = t + 1\n",
    "    finish[i] = t"
   ]
  },
  {
   "cell_type": "code",
   "execution_count": 97,
   "metadata": {
    "collapsed": false
   },
   "outputs": [],
   "source": [
    "# SCC computation\n",
    "def scc(o_graph,r_graph):\n",
    "    global t,s,leader,finish,visited\n",
    "    # run dfs_loop on r_graph\n",
    "    nodes = set()\n",
    "    for k,v in r_graph.items():\n",
    "        nodes = nodes | set(v)\n",
    "        nodes.add(k)\n",
    "    nodes = sorted(list(nodes),reverse = True)\n",
    "    dfs_loop(r_graph,nodes)\n",
    "    # record finish time\n",
    "    sorted_nodes = sorted(finish,key = finish.get,reverse = True)\n",
    "    # reset t,s,leader,finish\n",
    "    t = 0\n",
    "    s = None\n",
    "    leader = {}\n",
    "    finish = {}\n",
    "    visited = set()\n",
    "    # run dfs loop on o_graph\n",
    "    dfs_loop(o_graph,sorted_nodes)\n",
    "    # return leaders\n",
    "    out = defaultdict(list)\n",
    "    sorted_scc = sorted(leader,key = leader.get)\n",
    "    for leader,nodes in groupby(sorted_scc,key = leader.get):\n",
    "        out[leader] = list(nodes)\n",
    "    # set t,s,leader,finish\n",
    "    t = 0\n",
    "    s = None\n",
    "    leader = {}\n",
    "    finish = {}\n",
    "    visited = set()\n",
    "    return out"
   ]
  },
  {
   "cell_type": "code",
   "execution_count": null,
   "metadata": {
    "collapsed": true
   },
   "outputs": [],
   "source": [
    "def largest_scc(scc):\n",
    "    len_ls = []\n",
    "    for i in scc.keys():\n",
    "        len_ls.append(len(scc[i]))\n",
    "    if len(len_ls) < 5:\n",
    "        len_ls += [0] * (5 - len(len_ls))\n",
    "    return sorted(len_ls,reverse = True)"
   ]
  },
  {
   "cell_type": "code",
   "execution_count": 64,
   "metadata": {
    "collapsed": true
   },
   "outputs": [],
   "source": [
    "sample = [[1,7],[4,1],[7,4],[7,9],[9,6],[6,3],[3,9],[6,8],[8,2],[2,5],[5,8]]"
   ]
  },
  {
   "cell_type": "code",
   "execution_count": 67,
   "metadata": {
    "collapsed": false
   },
   "outputs": [],
   "source": [
    "o_graph_s = create_graph(sample)\n",
    "r_graph_s = reverse_graph(o_graph_s)"
   ]
  },
  {
   "cell_type": "code",
   "execution_count": 99,
   "metadata": {
    "collapsed": false
   },
   "outputs": [],
   "source": [
    "sample_scc = scc(o_graph_s,r_graph_s)"
   ]
  },
  {
   "cell_type": "code",
   "execution_count": 100,
   "metadata": {
    "collapsed": false
   },
   "outputs": [
    {
     "data": {
      "text/plain": [
       "defaultdict(list, {7: [1, 4, 7], 8: [2, 5, 8], 9: [3, 6, 9]})"
      ]
     },
     "execution_count": 100,
     "metadata": {},
     "output_type": "execute_result"
    }
   ],
   "source": [
    "sample_scc"
   ]
  },
  {
   "cell_type": "code",
   "execution_count": 107,
   "metadata": {
    "collapsed": false
   },
   "outputs": [
    {
     "data": {
      "text/plain": [
       "defaultdict(list, {7: [1, 4, 7], 8: [2, 5, 8], 9: [3, 6, 9]})"
      ]
     },
     "execution_count": 107,
     "metadata": {},
     "output_type": "execute_result"
    }
   ],
   "source": [
    "sample_2 = [[1,4],[2,8],[3,6],[4,7],[5,2],[6,9],[7,1],[8,5],[8,6],[9,7],[9,3]]\n",
    "o_graph_2 = create_graph(sample_2)\n",
    "r_graph_2 = reverse_graph(o_graph_2)\n",
    "scc(o_graph_2,r_graph_2)"
   ]
  },
  {
   "cell_type": "code",
   "execution_count": 109,
   "metadata": {
    "collapsed": false
   },
   "outputs": [
    {
     "data": {
      "text/plain": [
       "defaultdict(list, {3: [1, 2, 3], 4: [4], 5: [5], 8: [6, 7, 8]})"
      ]
     },
     "execution_count": 109,
     "metadata": {},
     "output_type": "execute_result"
    }
   ],
   "source": [
    "sample_3 = [[1,2],[2,3],[3,1],[3,4],[5,4],[6,4],[8,6],[6,7],[7,8]]\n",
    "o_graph_3 = create_graph(sample_3)\n",
    "r_graph_3 = reverse_graph(o_graph_3)\n",
    "scc(o_graph_3,r_graph_3)"
   ]
  },
  {
   "cell_type": "code",
   "execution_count": null,
   "metadata": {
    "collapsed": true
   },
   "outputs": [],
   "source": [
    "# run scc on the programming assignment file\n",
    "largest_scc(scc(o_graph,r_graph))[0:5]"
   ]
  }
 ],
 "metadata": {
  "kernelspec": {
   "display_name": "Python 2",
   "language": "python",
   "name": "python2"
  },
  "language_info": {
   "codemirror_mode": {
    "name": "ipython",
    "version": 2
   },
   "file_extension": ".py",
   "mimetype": "text/x-python",
   "name": "python",
   "nbconvert_exporter": "python",
   "pygments_lexer": "ipython2",
   "version": "2.7.12"
  }
 },
 "nbformat": 4,
 "nbformat_minor": 0
}
