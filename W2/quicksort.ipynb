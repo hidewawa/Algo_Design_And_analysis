{
 "cells": [
  {
   "cell_type": "markdown",
   "metadata": {},
   "source": [
    "### Programming Assignment 2 (Week 2)\n",
    "\n",
    "The file contains all of the integers between 1 and 10,000 (inclusive, with no repeats) in unsorted order. The integer in the ith row of the file gives you the ith entry of an input array.\n",
    "\n",
    "Your task is to compute the total number of comparisons used to sort the given input file by QuickSort. As you know, the number of comparisons depends on which elements are chosen as pivots, so we'll ask you to explore three different pivoting rules.\n",
    "\n",
    "You should not count comparisons one-by-one. Rather, when there is a recursive call on a subarray of length m, you should simply add m−1 to your running total of comparisons. (This is because the pivot element is compared to each of the other m−1 elements in the subarray in this recursive call.)\n",
    "\n",
    "WARNING: The Partition subroutine can be implemented in several different ways, and different implementations can give you differing numbers of comparisons. For this problem, you should implement the Partition subroutine exactly as it is described in the video lectures (otherwise you might get the wrong answer).\n",
    "\n",
    "DIRECTIONS FOR THIS PROBLEM:\n",
    "\n",
    "    1. For the first part of the programming assignment, you should always use the first element of the array as the pivot element.\n",
    "\n",
    "HOW TO GIVE US YOUR ANSWER:\n",
    "\n",
    "Type the numeric answer in the space provided.\n",
    "\n",
    "So if your answer is 1198233847, then just type 1198233847 in the space provided without any space / commas / other punctuation marks. You have 5 attempts to get the correct answer.\n",
    "\n",
    "(We do not require you to submit your code, so feel free to use the programming language of your choice, just type the numeric answer in the following space.)\n",
    "\n",
    "    2. GENERAL DIRECTIONS AND HOW TO GIVE US YOUR ANSWER:\n",
    "\n",
    "See the first question.\n",
    "\n",
    "DIRECTIONS FOR THIS PROBLEM:\n",
    "\n",
    "Compute the number of comparisons (as in Problem 1), always using the final element of the given array as the pivot element. Again, be sure to implement the Partition subroutine exactly as it is described in the video lectures.\n",
    "\n",
    "Recall from the lectures that, just before the main Partition subroutine, you should exchange the pivot element (i.e., the last element) with the first element.\n",
    "      3.GENERAL DIRECTIONS AND HOW TO GIVE US YOUR ANSWER:\n",
    "\n",
    "See the first question.\n",
    "\n",
    "DIRECTIONS FOR THIS PROBLEM:\n",
    "\n",
    "Compute the number of comparisons (as in Problem 1), using the \"median-of-three\" pivot rule. [The primary motivation behind this rule is to do a little bit of extra work to get much better performance on input arrays that are nearly sorted or reverse sorted.] In more detail, you should choose the pivot as follows. Consider the first, middle, and final elements of the given array. (If the array has odd length it should be clear what the \"middle\" element is; for an array with even length 2k, use the kth element as the \"middle\" element. So for the array 4 5 6 7, the \"middle\" element is the second one ---- 5 and not 6!) Identify which of these three elements is the median (i.e., the one whose value is in between the other two), and use this as your pivot. As discussed in the first and second parts of this programming assignment, be sure to implement Partition exactly as described in the video lectures (including exchanging the pivot element with the first element just before the main Partition subroutine).\n",
    "\n",
    "EXAMPLE: For the input array 8 2 4 5 7 1 you would consider the first (8), middle (4), and last (1) elements; since 4 is the median of the set {1,4,8}, you would use 4 as your pivot element.\n",
    "\n",
    "SUBTLE POINT: A careful analysis would keep track of the comparisons made in identifying the median of the three candidate elements. You should NOT do this. That is, as in the previous two problems, you should simply add m−1 to your running total of comparisons every time you recurse on a subarray with length m."
   ]
  },
  {
   "cell_type": "code",
   "execution_count": 5,
   "metadata": {
    "collapsed": false
   },
   "outputs": [],
   "source": [
    "import os\n",
    "directory = '/Users/LG/Documents/data_project/algo_design_and_analysis/W2/'\n",
    "path_to_file = os.path.join(directory,'QuickSort.txt')\n",
    "lines = [line.rstrip('\\r\\n') for line in open(path_to_file)]\n",
    "for i in xrange(len(lines)):\n",
    "       lines[i] = int(lines[i])\n"
   ]
  },
  {
   "cell_type": "code",
   "execution_count": 40,
   "metadata": {
    "collapsed": true
   },
   "outputs": [],
   "source": [
    "def partition(array,l,r,pos):\n",
    "    \"partition subroutine\" \n",
    "    if pos == 'first':\n",
    "        p = array[l]\n",
    "    elif pos == 'last':\n",
    "        array[l],array[r-1] = array[r-1],array[l]\n",
    "        p = array[l]\n",
    "    elif pos == 'median':\n",
    "        p1 = array[l]\n",
    "        p2 = array[r-1]\n",
    "        p3 = array[(r-l-1)/2]\n",
    "        if (p2 < p1 and p2 > p3) or (p2 > p1 and p2 < p3):\n",
    "            array[r-1],array[l] = array[l],array[r-1]\n",
    "        elif(p3 < p1 and p3 > p2) or (p3 > p1 and p3 < p2):\n",
    "            array[(r-l-1)/2],array[l] = array[l],array[(r-l-1)/2]\n",
    "        p = array[l]\n",
    "    i = l + 1\n",
    "    for j in range(l + 1,r):\n",
    "        if array[j] < p:\n",
    "            array[i],array[j] = array[j],array[i]\n",
    "            i = i + 1\n",
    "    array[l],array[i-1] = array[i-1],array[l]\n",
    "    return array[:i-1],[array[i-1]],array[i:]"
   ]
  },
  {
   "cell_type": "code",
   "execution_count": 29,
   "metadata": {
    "collapsed": false
   },
   "outputs": [],
   "source": [
    "def quicksort(a,n,pos):\n",
    "    if n <= 1:\n",
    "        return a\n",
    "    \n",
    "    else:\n",
    "        global num_of_comparison\n",
    "        num_of_comparison = num_of_comparison + n - 1\n",
    "        #p = choosepivot(a,n)\n",
    "        left_a,pivotal,right_a = partition(a,0,n,pos = pos)\n",
    "        return quicksort(left_a,len(left_a),pos = pos) + pivotal + quicksort(right_a,len(right_a),pos = pos)\n",
    "        "
   ]
  },
  {
   "cell_type": "code",
   "execution_count": 18,
   "metadata": {
    "collapsed": true
   },
   "outputs": [],
   "source": [
    "test = [3,4,5,6,10,7,8,2,11]\n",
    "#partition(test,0,len(test))\n",
    "quicksort(test,len(test))"
   ]
  },
  {
   "cell_type": "code",
   "execution_count": 31,
   "metadata": {
    "collapsed": false
   },
   "outputs": [
    {
     "name": "stdout",
     "output_type": "stream",
     "text": [
      "162085\n"
     ]
    }
   ],
   "source": [
    "# First element as pivotal\n",
    "lines = [line.rstrip('\\r\\n') for line in open(path_to_file)]\n",
    "for i in xrange(len(lines)):\n",
    "       lines[i] = int(lines[i])\n",
    "num_of_comparison = 0\n",
    "quicksort(lines,len(lines),pos = 'first')\n",
    "print num_of_comparison"
   ]
  },
  {
   "cell_type": "code",
   "execution_count": 34,
   "metadata": {
    "collapsed": false
   },
   "outputs": [
    {
     "name": "stdout",
     "output_type": "stream",
     "text": [
      "164123\n"
     ]
    }
   ],
   "source": [
    "# last element as pivotal\n",
    "lines = [line.rstrip('\\r\\n') for line in open(path_to_file)]\n",
    "for i in xrange(len(lines)):\n",
    "       lines[i] = int(lines[i])\n",
    "num_of_comparison = 0\n",
    "quicksort(lines,len(lines),pos = 'last')\n",
    "print num_of_comparison\n"
   ]
  },
  {
   "cell_type": "code",
   "execution_count": 41,
   "metadata": {
    "collapsed": false
   },
   "outputs": [
    {
     "name": "stdout",
     "output_type": "stream",
     "text": [
      "138382\n"
     ]
    }
   ],
   "source": [
    "# median of three element as pivotal\n",
    "lines = [line.rstrip('\\r\\n') for line in open(path_to_file)]\n",
    "for i in xrange(len(lines)):\n",
    "       lines[i] = int(lines[i])\n",
    "num_of_comparison = 0\n",
    "quicksort(lines,len(lines),pos = 'median')\n",
    "print num_of_comparison\n"
   ]
  },
  {
   "cell_type": "code",
   "execution_count": 39,
   "metadata": {
    "collapsed": false
   },
   "outputs": [
    {
     "data": {
      "text/plain": [
       "10"
      ]
     },
     "execution_count": 39,
     "metadata": {},
     "output_type": "execute_result"
    }
   ],
   "source": [
    "test = [3,4,5,6,10,7,8,2,11]\n",
    "test[(len(test)-1)/2]"
   ]
  }
 ],
 "metadata": {
  "kernelspec": {
   "display_name": "Python 2",
   "language": "python",
   "name": "python2"
  },
  "language_info": {
   "codemirror_mode": {
    "name": "ipython",
    "version": 2
   },
   "file_extension": ".py",
   "mimetype": "text/x-python",
   "name": "python",
   "nbconvert_exporter": "python",
   "pygments_lexer": "ipython2",
   "version": "2.7.12"
  }
 },
 "nbformat": 4,
 "nbformat_minor": 0
}
