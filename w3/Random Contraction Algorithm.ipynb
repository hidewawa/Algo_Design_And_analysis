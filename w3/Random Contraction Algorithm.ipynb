{
 "cells": [
  {
   "cell_type": "markdown",
   "metadata": {},
   "source": [
    "### Programming Assignment 3\n",
    "The file contains the adjacency list representation of a simple undirected graph. There are 200 vertices labeled 1 to 200. The first column in the file represents the vertex label, and the particular row (other entries except the first column) tells all the vertices that the vertex is adjacent to. So for example, the 6th row looks like : \"6\t155\t56\t52\t120\t......\". This just means that the vertex with label 6 is adjacent to (i.e., shares an edge with) the vertices with labels 155,56,52,120,......,etc\n",
    "\n",
    "Your task is to code up and run the randomized contraction algorithm for the min cut problem and use it on the above graph to compute the min cut. (HINT: Note that you'll have to figure out an implementation of edge contractions. Initially, you might want to do this naively, creating a new graph from the old every time there's an edge contraction. But you should also think about more efficient implementations.) (WARNING: As per the video lectures, please make sure to run the algorithm many times with different random seeds, and remember the smallest cut that you ever find.) Write your numeric answer in the space provided. So e.g., if your answer is 5, just type 5 in the space provided."
   ]
  },
  {
   "cell_type": "code",
   "execution_count": 42,
   "metadata": {
    "collapsed": false
   },
   "outputs": [],
   "source": [
    "import os\n",
    "#import pandas as pd\n",
    "import random\n",
    "import copy\n",
    "dir = '/Users/LG/Documents/data_project/algo_design_and_analysis/w3'\n",
    "path_to_file = os.path.join(dir,'mincut.txt')\n",
    "lines = [line.rstrip().split('\\t') for line in open(path_to_file)]"
   ]
  },
  {
   "cell_type": "code",
   "execution_count": 22,
   "metadata": {
    "collapsed": false
   },
   "outputs": [
    {
     "data": {
      "text/plain": [
       "200"
      ]
     },
     "execution_count": 22,
     "metadata": {},
     "output_type": "execute_result"
    }
   ],
   "source": [
    "len(lines)"
   ]
  },
  {
   "cell_type": "code",
   "execution_count": 70,
   "metadata": {
    "collapsed": true
   },
   "outputs": [],
   "source": [
    "# extract nodes and edges from lines,create dictionary\n",
    "node_dict = dict()\n",
    "for line in lines:\n",
    "    node_dict[line[0]] = line[1:] "
   ]
  },
  {
   "cell_type": "code",
   "execution_count": 74,
   "metadata": {
    "collapsed": false
   },
   "outputs": [],
   "source": [
    "def random_contraction(node_dict):\n",
    "    length = []\n",
    "    while len(node_dict) > 2:\n",
    "        node1 = random.choice(node_dict.keys())\n",
    "        node2 = random.choice(node_dict[node1])\n",
    "        node_dict[node1].extend(node_dict[node2])\n",
    "        for x in node_dict[node2]:\n",
    "            node_dict[x].remove(node2)\n",
    "            node_dict[x].append(node1)\n",
    "        while node1 in node_dict[node1]:\n",
    "            node_dict[node1].remove(node1)\n",
    "        del node_dict[str(node2)]\n",
    "        for key in node_dict.keys():\n",
    "            length.append(len(node_dict[key]))\n",
    "        return length[0]\n",
    "            \n",
    "            \n",
    "        \n",
    "        \n",
    "        \n",
    "     \n",
    "     \n",
    "    "
   ]
  },
  {
   "cell_type": "code",
   "execution_count": 71,
   "metadata": {
    "collapsed": true
   },
   "outputs": [],
   "source": [
    "def random_seed(G,n):\n",
    "    i = 0 \n",
    "    count = 10000\n",
    "    while i < n:\n",
    "        data = copy.deepcopy(G)\n",
    "        min_cut = random_contraction(data)\n",
    "        if min_cut < count:\n",
    "            count = min_cut\n",
    "        i += 1\n",
    "    return count"
   ]
  },
  {
   "cell_type": "code",
   "execution_count": null,
   "metadata": {
    "collapsed": true
   },
   "outputs": [],
   "source": [
    "print random_seed(node_dict,100)"
   ]
  }
 ],
 "metadata": {
  "kernelspec": {
   "display_name": "Python 2",
   "language": "python",
   "name": "python2"
  },
  "language_info": {
   "codemirror_mode": {
    "name": "ipython",
    "version": 2
   },
   "file_extension": ".py",
   "mimetype": "text/x-python",
   "name": "python",
   "nbconvert_exporter": "python",
   "pygments_lexer": "ipython2",
   "version": "2.7.12"
  }
 },
 "nbformat": 4,
 "nbformat_minor": 0
}
