{
 "cells": [
  {
   "cell_type": "markdown",
   "metadata": {},
   "source": [
    "## Algorithm Design and Analysis Part 1\n",
    "### Programming Assignment 1 (Week1)\n",
    "This file contains all of the 100,000 integers between 1 and 100,000 (inclusive) in some order, with no integer repeated.\n",
    "\n",
    "Your task is to compute the number of inversions in the file given, where the ith row of the file indicates the ith entry of an array.\n",
    "\n",
    "Because of the large size of this array, you should implement the fast divide-and-conquer algorithm covered in the video lectures.\n",
    "\n",
    "The numeric answer for the given input file should be typed in the space below.\n",
    "\n",
    "So if your answer is 1198233847, then just type 1198233847 in the space provided without any space / commas / any other punctuation marks. You can make up to 5 attempts, and we'll use the best one for grading.\n",
    "\n",
    "(We do not require you to submit your code, so feel free to use any programming language you want --- just type the final numeric answer in the following space.)\n",
    "\n",
    "[TIP: before submitting, first test the correctness of your program on some small test files or your own devising. Then post your best test cases to the discussion forums to help your fellow students!]"
   ]
  },
  {
   "cell_type": "code",
   "execution_count": 16,
   "metadata": {
    "collapsed": false
   },
   "outputs": [],
   "source": [
    "import os\n",
    "directory = '/Users/LG/Desktop/Coursera_Slides/Algo Design and Analysis/programming_assignment/'\n",
    "file = os.listdir(directory)\n",
    "path_to_file = os.path.join(directory,file[0])\n",
    "lines = [line.rstrip('\\r\\n') for line in open(path_to_file)]\n",
    "for i in xrange(len(lines)):\n",
    "    lines[i] = int(lines[i])"
   ]
  },
  {
   "cell_type": "code",
   "execution_count": 133,
   "metadata": {
    "collapsed": false
   },
   "outputs": [],
   "source": [
    "sample = [1,3,10,5,8,2,4,16]"
   ]
  },
  {
   "cell_type": "code",
   "execution_count": 137,
   "metadata": {
    "collapsed": false
   },
   "outputs": [],
   "source": [
    "def count_and_sort(ls):\n",
    "    if len(ls) <  2:\n",
    "        return ls,0\n",
    "    else:\n",
    "        mid = len(ls)/2\n",
    "        lefthalf = ls[:mid]\n",
    "        righthalf = ls[mid:]\n",
    "        # left count and sort\n",
    "        left,inv_left = count_and_sort(lefthalf)\n",
    "        right,inv_right = count_and_sort(righthalf)\n",
    "        result,count = count_split_inv(left,right)\n",
    "    count += inv_left + inv_right\n",
    "    return result,count\n",
    "    "
   ]
  },
  {
   "cell_type": "code",
   "execution_count": 127,
   "metadata": {
    "collapsed": false
   },
   "outputs": [],
   "source": [
    "def count_split_inv(sort_ls1,sort_ls2):\n",
    "    n = len(sort_ls1) + len(sort_ls2)\n",
    "    out = [None] * n\n",
    "    num_inv = 0\n",
    "    i = 0\n",
    "    j = 0\n",
    "    k = 0\n",
    "    while i < len(sort_ls1) and j < len(sort_ls2):\n",
    "        if sort_ls1[i] < sort_ls2[j]:\n",
    "            out[k] = sort_ls1[i]\n",
    "            i += 1\n",
    "        elif sort_ls1[i] > sort_ls2[j]:\n",
    "            out[k] = sort_ls2[j]\n",
    "            num_inv += len(sort_ls1) - i\n",
    "            j += 1\n",
    "        k += 1\n",
    "    while i < len(sort_ls1):\n",
    "        out[k] = sort_ls1[i]\n",
    "        k += 1\n",
    "        i += 1\n",
    "    while j < len(sort_ls2):\n",
    "        out[k] = sort_ls2[j]\n",
    "        k += 1\n",
    "        j += 1\n",
    "    return out,num_inv"
   ]
  },
  {
   "cell_type": "code",
   "execution_count": 126,
   "metadata": {
    "collapsed": false
   },
   "outputs": [
    {
     "data": {
      "text/plain": [
       "([2, 4, 6, 7], 3)"
      ]
     },
     "execution_count": 126,
     "metadata": {},
     "output_type": "execute_result"
    }
   ],
   "source": [
    "count_split_inv([4,7],[2,6])"
   ]
  },
  {
   "cell_type": "code",
   "execution_count": 134,
   "metadata": {
    "collapsed": false
   },
   "outputs": [
    {
     "data": {
      "text/plain": [
       "([1, 2, 3, 4, 5, 8, 10, 16], 9)"
      ]
     },
     "execution_count": 134,
     "metadata": {},
     "output_type": "execute_result"
    }
   ],
   "source": [
    "count_and_sort(sample)"
   ]
  },
  {
   "cell_type": "code",
   "execution_count": 139,
   "metadata": {
    "collapsed": false
   },
   "outputs": [
    {
     "name": "stdout",
     "output_type": "stream",
     "text": [
      "2407905288\n"
     ]
    }
   ],
   "source": [
    "# for the programming assignment\n",
    "sorted_list,num_of_inv = count_and_sort(lines)\n",
    "print num_of_inv"
   ]
  },
  {
   "cell_type": "markdown",
   "metadata": {},
   "source": [
    "### Programming Assignment 2 (Week 2)\n",
    "\n",
    "The file contains all of the integers between 1 and 10,000 (inclusive, with no repeats) in unsorted order. The integer in the ith row of the file gives you the ith entry of an input array.\n",
    "\n",
    "Your task is to compute the total number of comparisons used to sort the given input file by QuickSort. As you know, the number of comparisons depends on which elements are chosen as pivots, so we'll ask you to explore three different pivoting rules.\n",
    "\n",
    "You should not count comparisons one-by-one. Rather, when there is a recursive call on a subarray of length m, you should simply add m−1 to your running total of comparisons. (This is because the pivot element is compared to each of the other m−1 elements in the subarray in this recursive call.)\n",
    "\n",
    "WARNING: The Partition subroutine can be implemented in several different ways, and different implementations can give you differing numbers of comparisons. For this problem, you should implement the Partition subroutine exactly as it is described in the video lectures (otherwise you might get the wrong answer).\n",
    "\n",
    "DIRECTIONS FOR THIS PROBLEM:\n",
    "\n",
    "    1. For the first part of the programming assignment, you should always use the first element of the array as the pivot element.\n",
    "\n",
    "HOW TO GIVE US YOUR ANSWER:\n",
    "\n",
    "Type the numeric answer in the space provided.\n",
    "\n",
    "So if your answer is 1198233847, then just type 1198233847 in the space provided without any space / commas / other punctuation marks. You have 5 attempts to get the correct answer.\n",
    "\n",
    "(We do not require you to submit your code, so feel free to use the programming language of your choice, just type the numeric answer in the following space.)\n",
    "\n",
    "    2. GENERAL DIRECTIONS AND HOW TO GIVE US YOUR ANSWER:\n",
    "\n",
    "See the first question.\n",
    "\n",
    "DIRECTIONS FOR THIS PROBLEM:\n",
    "\n",
    "Compute the number of comparisons (as in Problem 1), always using the final element of the given array as the pivot element. Again, be sure to implement the Partition subroutine exactly as it is described in the video lectures.\n",
    "\n",
    "Recall from the lectures that, just before the main Partition subroutine, you should exchange the pivot element (i.e., the last element) with the first element.\n",
    "\n",
    "   "
   ]
  },
  {
   "cell_type": "code",
   "execution_count": 133,
   "metadata": {
    "collapsed": true
   },
   "outputs": [],
   "source": [
    "import os\n",
    "directory = '/Users/LG/Desktop/Coursera_Slides/Algo Design and Analysis/programming_assignment/'\n",
    "file = os.listdir(directory)\n",
    "path_to_file = os.path.join(directory,file[1])\n",
    "lines = [line.rstrip('\\r\\n') for line in open(path_to_file)]\n",
    "for i in xrange(len(lines)):\n",
    "       lines[i] = int(lines[i])\n"
   ]
  },
  {
   "cell_type": "code",
   "execution_count": 229,
   "metadata": {
    "collapsed": false
   },
   "outputs": [],
   "source": [
    "def partition(array,l,r):\n",
    "    \"partition subroutine\" \n",
    "    p = array[l]\n",
    "    i = l + 1\n",
    "    for j in range(l + 1,r):\n",
    "        if array[j] < p:\n",
    "            array[i],array[j] = array[j],array[i]\n",
    "            i = i + 1\n",
    "    array[l],array[i-1] = array[i-1],array[l]\n",
    "    return array[:i-1],[array[i-1]],array[i:]"
   ]
  },
  {
   "cell_type": "code",
   "execution_count": 230,
   "metadata": {
    "collapsed": false
   },
   "outputs": [],
   "source": [
    "# use first element as pivot\n",
    "def quicksort(a,n):\n",
    "    if n >1:\n",
    "        l = 0\n",
    "        r = n\n",
    "        left_array,pivot,right_array = partition(a,l,r)\n",
    "        return quicksort(left_array,len(left_array)) + pivot + quicksort(right_array,len(right_array))\n",
    "    else:\n",
    "        return a"
   ]
  },
  {
   "cell_type": "code",
   "execution_count": 222,
   "metadata": {
    "collapsed": false
   },
   "outputs": [],
   "source": [
    "test = [3,4,5,6,10,7,8,2,11]\n",
    "#partition(test,0,len(test))"
   ]
  },
  {
   "cell_type": "code",
   "execution_count": 231,
   "metadata": {
    "collapsed": false
   },
   "outputs": [
    {
     "data": {
      "text/plain": [
       "[2, 3, 4, 5, 6, 7, 8, 10, 11]"
      ]
     },
     "execution_count": 231,
     "metadata": {},
     "output_type": "execute_result"
    }
   ],
   "source": [
    "quicksort(test,len(test))"
   ]
  }
 ],
 "metadata": {
  "kernelspec": {
   "display_name": "Python 2",
   "language": "python",
   "name": "python2"
  },
  "language_info": {
   "codemirror_mode": {
    "name": "ipython",
    "version": 2
   },
   "file_extension": ".py",
   "mimetype": "text/x-python",
   "name": "python",
   "nbconvert_exporter": "python",
   "pygments_lexer": "ipython2",
   "version": "2.7.12"
  }
 },
 "nbformat": 4,
 "nbformat_minor": 0
}
